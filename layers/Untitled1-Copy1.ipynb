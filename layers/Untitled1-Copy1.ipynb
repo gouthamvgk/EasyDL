{
 "cells": [
  {
   "cell_type": "code",
   "execution_count": 1,
   "metadata": {},
   "outputs": [],
   "source": [
    "import torch\n",
    "import torch.nn as nn\n",
    "import torch.nn.functional as F\n",
    "\n",
    "import torch.optim as optim\n",
    "import numpy as np\n",
    "import pickle\n",
    "import os\n",
    "import copy"
   ]
  },
  {
   "cell_type": "code",
   "execution_count": null,
   "metadata": {},
   "outputs": [],
   "source": [
    "d = pickle.load(open('/home/gou/Downloads/comm/datasets/RML2016.10a/RML2016.10a_dict.pkl', 'rb'), encoding = 'latin-1')"
   ]
  },
  {
   "cell_type": "code",
   "execution_count": null,
   "metadata": {},
   "outputs": [],
   "source": [
    "from conv import Convolution"
   ]
  },
  {
   "cell_type": "code",
   "execution_count": null,
   "metadata": {},
   "outputs": [],
   "source": [
    "a = Convolution(3,10,3,1,'valid',0)"
   ]
  },
  {
   "cell_type": "code",
   "execution_count": null,
   "metadata": {},
   "outputs": [],
   "source": [
    "if (2,3) == (2,3):\n",
    "    raise ValueError('a')"
   ]
  },
  {
   "cell_type": "code",
   "execution_count": null,
   "metadata": {},
   "outputs": [],
   "source": [
    "a(np.random.randn(10,3,25,25))"
   ]
  },
  {
   "cell_type": "code",
   "execution_count": null,
   "metadata": {},
   "outputs": [],
   "source": [
    "a.backward(np.ones((10,10,23,23)))"
   ]
  },
  {
   "cell_type": "code",
   "execution_count": null,
   "metadata": {},
   "outputs": [],
   "source": [
    "a.filters_grad"
   ]
  },
  {
   "cell_type": "code",
   "execution_count": null,
   "metadata": {},
   "outputs": [],
   "source": [
    "import warnings\n",
    "\n",
    "def fxn():\n",
    "    warnings.warn(\"deprecated\", DeprecationWarning)\n",
    "\n",
    "with warnings.catch_warnings():\n",
    "    warnings.simplefilter(\"ignore\")\n",
    "    fxn()\n"
   ]
  },
  {
   "cell_type": "code",
   "execution_count": null,
   "metadata": {},
   "outputs": [],
   "source": [
    "warnings.warn('wrong')"
   ]
  },
  {
   "cell_type": "code",
   "execution_count": null,
   "metadata": {},
   "outputs": [],
   "source": [
    "a"
   ]
  },
  {
   "cell_type": "code",
   "execution_count": null,
   "metadata": {},
   "outputs": [],
   "source": [
    "a = np.random.randn(1,1,6,6)"
   ]
  },
  {
   "cell_type": "code",
   "execution_count": null,
   "metadata": {},
   "outputs": [],
   "source": [
    "a"
   ]
  },
  {
   "cell_type": "code",
   "execution_count": null,
   "metadata": {},
   "outputs": [],
   "source": [
    "a[:,:,0:0,0:0]"
   ]
  },
  {
   "cell_type": "code",
   "execution_count": null,
   "metadata": {},
   "outputs": [],
   "source": [
    "list(np.array([1,23]))"
   ]
  },
  {
   "cell_type": "code",
   "execution_count": null,
   "metadata": {},
   "outputs": [],
   "source": [
    "e = np.array([1,2,4])"
   ]
  },
  {
   "cell_type": "code",
   "execution_count": null,
   "metadata": {},
   "outputs": [],
   "source": [
    "list(a[:,:,1,1])"
   ]
  },
  {
   "cell_type": "code",
   "execution_count": null,
   "metadata": {},
   "outputs": [],
   "source": [
    "import mapper\n"
   ]
  },
  {
   "cell_type": "code",
   "execution_count": null,
   "metadata": {},
   "outputs": [],
   "source": [
    "np.argmax(d[:,1,0:3,0:3].reshape(2,9), axis=1)"
   ]
  },
  {
   "cell_type": "code",
   "execution_count": null,
   "metadata": {},
   "outputs": [],
   "source": [
    "d[:,:,:,0:7].shape"
   ]
  },
  {
   "cell_type": "code",
   "execution_count": null,
   "metadata": {},
   "outputs": [],
   "source": [
    "d = np.random.randn(1,1,9,9)\n"
   ]
  },
  {
   "cell_type": "code",
   "execution_count": null,
   "metadata": {},
   "outputs": [],
   "source": [
    "np.random.binomial(1,0.5,(2,20))"
   ]
  },
  {
   "cell_type": "code",
   "execution_count": null,
   "metadata": {},
   "outputs": [],
   "source": [
    "np.argmax(d.reshape(5,100), axis=1)"
   ]
  },
  {
   "cell_type": "code",
   "execution_count": null,
   "metadata": {},
   "outputs": [],
   "source": [
    "from maxpool import maxpool"
   ]
  },
  {
   "cell_type": "code",
   "execution_count": null,
   "metadata": {},
   "outputs": [],
   "source": [
    "e = maxpool(3,stride=1,padding=4)\n",
    "\n"
   ]
  },
  {
   "cell_type": "code",
   "execution_count": null,
   "metadata": {},
   "outputs": [],
   "source": [
    "\n",
    "e(d).shape"
   ]
  },
  {
   "cell_type": "code",
   "execution_count": null,
   "metadata": {},
   "outputs": [],
   "source": [
    "e.backward(np.ones((1,1,15,15))).shape"
   ]
  },
  {
   "cell_type": "code",
   "execution_count": null,
   "metadata": {},
   "outputs": [],
   "source": [
    "e.max_map"
   ]
  },
  {
   "cell_type": "code",
   "execution_count": null,
   "metadata": {},
   "outputs": [],
   "source": [
    "e.max_map"
   ]
  },
  {
   "cell_type": "code",
   "execution_count": null,
   "metadata": {},
   "outputs": [],
   "source": [
    "d"
   ]
  },
  {
   "cell_type": "code",
   "execution_count": null,
   "metadata": {},
   "outputs": [],
   "source": [
    "d"
   ]
  },
  {
   "cell_type": "code",
   "execution_count": null,
   "metadata": {},
   "outputs": [],
   "source": [
    "d.reshape(d.shape[0]*d.shape[1],)"
   ]
  },
  {
   "cell_type": "code",
   "execution_count": null,
   "metadata": {},
   "outputs": [],
   "source": [
    "nn.Conv2d(3,6,6,)"
   ]
  },
  {
   "cell_type": "code",
   "execution_count": null,
   "metadata": {},
   "outputs": [],
   "source": [
    "np.sum(d,axis=1).shape"
   ]
  },
  {
   "cell_type": "code",
   "execution_count": null,
   "metadata": {},
   "outputs": [],
   "source": [
    "d[2].shape"
   ]
  },
  {
   "cell_type": "code",
   "execution_count": null,
   "metadata": {},
   "outputs": [],
   "source": [
    "d"
   ]
  },
  {
   "cell_type": "code",
   "execution_count": null,
   "metadata": {},
   "outputs": [],
   "source": [
    "np.set_printoptions(edgeitems=3,infstr='inf',\n",
    "... linewidth=75, nanstr='nan', precision=8,\n",
    "... suppress=False, threshold=1000, formatter=None)\n"
   ]
  },
  {
   "cell_type": "code",
   "execution_count": null,
   "metadata": {},
   "outputs": [],
   "source": [
    "s = "
   ]
  },
  {
   "cell_type": "code",
   "execution_count": null,
   "metadata": {},
   "outputs": [],
   "source": [
    "d = np.random.rand(5,3)"
   ]
  },
  {
   "cell_type": "code",
   "execution_count": null,
   "metadata": {},
   "outputs": [],
   "source": [
    "count = 1\n",
    "for j in range(0,18-3,2):\n",
    "    for k in range(0,18-3,2):\n",
    "        print(j,k)\n",
    "        count += 1\n",
    "print(count)\n"
   ]
  },
  {
   "cell_type": "code",
   "execution_count": null,
   "metadata": {},
   "outputs": [],
   "source": [
    "d = np.random.rand(3,4)\n",
    "e = np.random.rand(3,4)\n",
    "d,e"
   ]
  },
  {
   "cell_type": "code",
   "execution_count": 24,
   "metadata": {},
   "outputs": [],
   "source": [
    "e = np.random.randn(12,10)"
   ]
  },
  {
   "cell_type": "code",
   "execution_count": 28,
   "metadata": {},
   "outputs": [
    {
     "data": {
      "text/plain": [
       "array([[-1.94141409e+00, -1.41802437e+00, -9.65345117e-01,\n",
       "         5.69099021e-01,  9.37666679e-01, -6.04003921e-01,\n",
       "         6.86946941e-01, -1.43514310e+00,  3.49711988e-01,\n",
       "        -2.12401494e+00],\n",
       "       [-2.28281784e+00,  5.23701033e-01,  1.74945870e+00,\n",
       "         2.82971928e-01, -1.69499657e+00,  1.35454410e+00,\n",
       "         6.70509249e-01, -5.04667147e-01,  1.48458278e+00,\n",
       "        -1.08313622e-03],\n",
       "       [ 5.97397739e-01, -2.16695414e-02,  4.15561365e-01,\n",
       "        -6.39117035e-01, -8.90798135e-01, -1.65585942e+00,\n",
       "         9.33092995e-01, -1.86585208e+00,  2.93998541e-01,\n",
       "         5.98409444e-02],\n",
       "       [-5.59260386e-01,  5.60034480e-02,  1.88950057e+00,\n",
       "        -1.39410590e+00, -3.66397412e-01, -1.08575316e-01,\n",
       "        -3.60952378e-01,  6.46932330e-01, -1.20537091e+00,\n",
       "         2.21828623e-03],\n",
       "       [ 5.40668818e-02, -1.07626399e-02, -1.74325505e+00,\n",
       "         1.08032069e+00, -1.25433558e-01, -1.05158429e-01,\n",
       "         5.48456862e-01, -1.30518870e+00,  5.75424934e-01,\n",
       "        -7.82769765e-01],\n",
       "       [-9.98435418e-01,  6.28255661e-01, -1.19140690e+00,\n",
       "        -4.73458657e-01,  2.40711334e-02, -1.48767609e+00,\n",
       "         3.07685480e-01, -1.57755486e+00, -9.23329446e-01,\n",
       "        -5.47304464e-01],\n",
       "       [ 1.03742741e+00,  8.61634106e-02,  7.56034380e-01,\n",
       "        -8.34673135e-01, -3.97472705e-01, -8.10194839e-02,\n",
       "         1.70495738e+00,  1.50616998e+00,  3.48515187e-01,\n",
       "        -1.42199051e+00],\n",
       "       [-1.09020969e+00, -6.87558188e-02,  7.30900645e-02,\n",
       "         6.24473430e-01, -6.68220099e-01,  6.45183846e-01,\n",
       "        -9.77488159e-01,  8.43491414e-01, -7.01206806e-01,\n",
       "        -1.61726965e-01],\n",
       "       [ 9.84317966e-01, -1.45236798e+00, -4.68185806e-01,\n",
       "        -2.09732818e+00,  4.13622715e-01, -2.33713012e-01,\n",
       "        -1.24042565e+00, -5.90902256e-01,  1.19671395e+00,\n",
       "        -7.29869279e-01],\n",
       "       [-1.90645759e-01, -2.82379100e-01, -9.51506025e-01,\n",
       "         1.32332987e+00, -1.56088172e-02, -1.16001126e-01,\n",
       "        -8.15864130e-01, -5.13289737e-01, -1.60557745e+00,\n",
       "         1.17247568e-01],\n",
       "       [-5.66486071e-01, -8.87770094e-01, -3.64514107e-01,\n",
       "        -9.11857442e-02, -7.89056313e-01, -3.68150246e-01,\n",
       "         4.12197304e-01,  5.25759892e-01,  1.84038688e+00,\n",
       "         6.71366012e-01],\n",
       "       [ 2.87587319e-01,  5.22766820e-01,  3.81614279e-01,\n",
       "        -3.93422288e-01, -1.17296464e+00,  5.51229635e-01,\n",
       "         6.46077986e-01, -5.66863255e-01,  5.36486883e-01,\n",
       "         2.93372886e-01]])"
      ]
     },
     "execution_count": 28,
     "metadata": {},
     "output_type": "execute_result"
    }
   ],
   "source": [
    "e"
   ]
  },
  {
   "cell_type": "code",
   "execution_count": 29,
   "metadata": {},
   "outputs": [],
   "source": [
    "from batch_norm1d import batch_norm1d"
   ]
  },
  {
   "cell_type": "code",
   "execution_count": 13,
   "metadata": {},
   "outputs": [],
   "source": [
    "d = batch_norm1d(10)"
   ]
  },
  {
   "cell_type": "code",
   "execution_count": 34,
   "metadata": {},
   "outputs": [
    {
     "data": {
      "text/plain": [
       "array([[-1.33627886, -1.6304844 , -0.370494  ,  0.12926093,  1.01239625,\n",
       "        -0.50200583, -0.18400493, -1.34684051, -0.29388136, -1.86795214],\n",
       "       [-1.54361809,  0.34865434, -0.28388168, -0.05191864, -1.75254658,\n",
       "        -0.13513269, -0.18997234, -0.48546943, -0.1257845 , -0.05968139],\n",
       "       [ 0.20557677, -0.20722448, -0.32643796, -0.63579792, -0.90794076,\n",
       "        -0.69903829, -0.09464605, -1.74556147, -0.30213362, -0.00778748],\n",
       "       [-0.49687775, -0.12805488, -0.27941383, -1.11386716, -0.35719124,\n",
       "        -0.40920267, -0.56442585,  0.5806027 , -0.52421996, -0.0568693 ],\n",
       "       [-0.12439559, -0.19610743, -0.39531221,  0.45297346, -0.10412003,\n",
       "        -0.40856262, -0.23428125, -1.22653761, -0.2604488 , -0.72550639],\n",
       "       [-0.76359483,  0.45522354, -0.37770621, -0.53090078,  0.05289661,\n",
       "        -0.66753437, -0.32168896, -1.4786756 , -0.48244403, -0.52494176],\n",
       "       [ 0.47281289, -0.0973138 , -0.3155756 , -0.75962671, -0.38982793,\n",
       "        -0.40404094,  0.18556537,  1.37602622, -0.29405863, -1.2699818 ],\n",
       "       [-0.81933062, -0.25521802, -0.33736406,  0.16432476, -0.67417917,\n",
       "        -0.2680093 , -0.78824803,  0.76256368, -0.44954326, -0.19651458],\n",
       "       [ 0.44055879, -1.66548975, -0.35463277, -1.55915708,  0.46202142,\n",
       "        -0.43264333, -0.88370274, -0.56530001, -0.16842358, -0.68044681],\n",
       "       [-0.27301297, -0.47295742, -0.37005248,  0.60685018,  0.01122292,\n",
       "        -0.41059367, -0.72957335, -0.49345164, -0.58349848,  0.04111033],\n",
       "       [-0.50126601, -1.09001314, -0.35132526, -0.28884037, -0.80108687,\n",
       "        -0.45782597, -0.28374783,  0.46842953, -0.07308286,  0.51309731],\n",
       "       [ 0.01742461,  0.34770213, -0.327521  , -0.48022066, -1.20428488,\n",
       "        -0.28560871, -0.19884167, -0.54304634, -0.26621629,  0.19113035]])"
      ]
     },
     "execution_count": 34,
     "metadata": {},
     "output_type": "execute_result"
    }
   ],
   "source": [
    "d(e)"
   ]
  },
  {
   "cell_type": "code",
   "execution_count": 35,
   "metadata": {},
   "outputs": [
    {
     "data": {
      "text/plain": [
       "array([[ 0.05545594, -1.25629759, -0.03925415,  1.21744488, -0.21048396,\n",
       "        -0.08300424,  0.81775683, -1.12183585, -0.02329235, -0.32635074],\n",
       "       [ 0.27886701,  1.97429841, -0.01572976,  0.58366928,  0.31308142,\n",
       "        -0.09317368, -0.30686135, -0.51553351, -0.02227022,  0.91005549],\n",
       "       [-1.40964241,  0.62920294,  0.00487394,  0.21489001,  1.19178541,\n",
       "        -0.00961799, -0.18899001,  0.9700859 ,  0.13150445, -0.93867655],\n",
       "       [ 0.65164597, -1.27023771,  0.005853  ,  0.70058975, -0.03437204,\n",
       "        -0.14574784, -0.04052264,  0.92251987,  0.0234328 ,  0.91968351],\n",
       "       [ 0.19174874, -0.66639224,  0.05397332,  0.47687256, -1.70846269,\n",
       "        -0.0294554 , -0.42306665,  0.08674032,  0.04061349,  0.96066172],\n",
       "       [ 0.34168086, -0.55210395, -0.02528175, -0.10995601,  1.34186557,\n",
       "         0.06689284,  0.04602235, -0.12434065, -0.05403064,  0.70388011],\n",
       "       [ 1.05157715,  0.28297654,  0.00793979,  0.23627624, -0.03897257,\n",
       "         0.22078495, -0.03630578, -1.01180424, -0.04053995,  0.29299612],\n",
       "       [-0.68167169, -1.81934527,  0.01986607, -1.13233831, -1.21841087,\n",
       "         0.15400201, -0.28431656,  0.08269976,  0.34946405,  0.78140419],\n",
       "       [-0.19100648,  0.79940731, -0.04185519, -0.73401608, -0.03395476,\n",
       "         0.25410771,  0.10777552, -1.18090804,  0.06142261, -2.49220879],\n",
       "       [-0.39309809,  1.59982673, -0.00638706, -0.75838472,  0.75590088,\n",
       "        -0.14491834,  0.17893149, -0.02908496, -0.14453177,  0.51605819],\n",
       "       [-0.62126765,  0.76096575,  0.0085197 , -0.71562452,  0.79923822,\n",
       "        -0.22461627, -0.01545032,  0.99828605,  0.06428366, -1.18474254],\n",
       "       [ 0.72571066, -0.48230092,  0.02748209,  0.02057692, -1.15721461,\n",
       "         0.03474625,  0.14502712,  0.92317533, -0.38605611, -0.14276072]])"
      ]
     },
     "execution_count": 35,
     "metadata": {},
     "output_type": "execute_result"
    }
   ],
   "source": [
    "d.backward(np.random.randn(12,10))"
   ]
  },
  {
   "cell_type": "code",
   "execution_count": 33,
   "metadata": {},
   "outputs": [],
   "source": [
    "d.gradient_step(0.01)"
   ]
  },
  {
   "cell_type": "code",
   "execution_count": 37,
   "metadata": {},
   "outputs": [
    {
     "data": {
      "text/plain": [
       "array([[ 2.81667157,  0.02654249,  1.32215986, -1.60521461,  0.76636598,\n",
       "         0.73722326,  4.13816109, -0.07496798,  7.50445697,  1.77537284]])"
      ]
     },
     "execution_count": 37,
     "metadata": {},
     "output_type": "execute_result"
    }
   ],
   "source": [
    "d.gamma_grad"
   ]
  },
  {
   "cell_type": "code",
   "execution_count": null,
   "metadata": {},
   "outputs": [],
   "source": [
    "np.random.uniform(0,1,(1,10))"
   ]
  },
  {
   "cell_type": "code",
   "execution_count": null,
   "metadata": {},
   "outputs": [],
   "source": [
    "\"kkdf    dddfdf\".split('    ')"
   ]
  },
  {
   "cell_type": "code",
   "execution_count": null,
   "metadata": {},
   "outputs": [],
   "source": [
    "type(8.98) == float\n"
   ]
  },
  {
   "cell_type": "code",
   "execution_count": null,
   "metadata": {},
   "outputs": [],
   "source": [
    "np.array([[1,2],[2,3],[2,2]]).shape"
   ]
  },
  {
   "cell_type": "code",
   "execution_count": null,
   "metadata": {},
   "outputs": [],
   "source": [
    "0.00000002/0.11111111111111111111"
   ]
  }
 ],
 "metadata": {
  "kernelspec": {
   "display_name": "Python 3",
   "language": "python",
   "name": "python3"
  },
  "language_info": {
   "codemirror_mode": {
    "name": "ipython",
    "version": 3
   },
   "file_extension": ".py",
   "mimetype": "text/x-python",
   "name": "python",
   "nbconvert_exporter": "python",
   "pygments_lexer": "ipython3",
   "version": "3.7.1"
  }
 },
 "nbformat": 4,
 "nbformat_minor": 2
}
